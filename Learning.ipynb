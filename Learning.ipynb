{
  "nbformat": 4,
  "nbformat_minor": 0,
  "metadata": {
    "colab": {
      "name": "Learning",
      "provenance": [],
      "collapsed_sections": []
    },
    "kernelspec": {
      "name": "python3",
      "display_name": "Python 3"
    },
    "language_info": {
      "name": "python"
    },
    "accelerator": "GPU"
  },
  "cells": [
    {
      "cell_type": "code",
      "metadata": {
        "id": "drgm9PQTH_fT"
      },
      "source": [
        "import re\n",
        "import numpy as np\n",
        "from PIL import Image, ImageOps\n",
        "import shutil\n",
        "import os\n",
        "import json\n",
        "\n",
        "from tensorflow import keras\n",
        "from sklearn.model_selection import train_test_split\n",
        "from keras import backend as K\n",
        "from keras.layers import Activation\n",
        "from keras.layers import Input, Lambda, Dense, Dropout, Convolution2D, MaxPooling2D, Flatten\n",
        "from keras.models import Sequential, Model\n",
        "from keras.optimizers import RMSprop\n"
      ],
      "execution_count": 17,
      "outputs": []
    },
    {
      "cell_type": "code",
      "metadata": {
        "id": "p0vs7816IRTm"
      },
      "source": [
        "def read_image(filename, byteorder='>'):\n",
        "    with open(filename, 'rb') as f:\n",
        "        buffer = f.read()\n",
        "    \n",
        "    header, width, height, maxval = re.search(\n",
        "        b\"(^P5\\s(?:\\s*#.*[\\r\\n])*\"\n",
        "        b\"(\\d+)\\s(?:\\s*#.*[\\r\\n])*\"\n",
        "        b\"(\\d+)\\s(?:\\s*#.*[\\r\\n])*\"\n",
        "        b\"(\\d+)\\s(?:\\s*#.*[\\r\\n]\\s)*)\", buffer).groups()\n",
        "    \n",
        "    #then we convert the image to numpy array using np.frombuffer which interprets buffer as one dimensional array\n",
        "    return np.frombuffer(buffer,\n",
        "                            dtype='u1' if int(maxval) < 256 else byteorder+'u2',\n",
        "                            count=int(width)*int(height),\n",
        "                            offset=len(header)\n",
        "                            ).reshape((int(height), int(width)))"
      ],
      "execution_count": 26,
      "outputs": []
    },
    {
      "cell_type": "code",
      "metadata": {
        "colab": {
          "base_uri": "https://localhost:8080/"
        },
        "id": "l-zSzg-cIYh8",
        "outputId": "534b4ea3-0e40-4e7f-a7ae-fa12e89d2b80"
      },
      "source": [
        "#достаем данные из гугл диска\n",
        "from google.colab import drive\n",
        "drive.mount('/content/gdrive/', force_remount=True)"
      ],
      "execution_count": 4,
      "outputs": [
        {
          "output_type": "stream",
          "text": [
            "Mounted at /content/gdrive/\n"
          ],
          "name": "stdout"
        }
      ]
    },
    {
      "cell_type": "code",
      "metadata": {
        "colab": {
          "base_uri": "https://localhost:8080/"
        },
        "id": "cEvCIdsCLvoT",
        "outputId": "365c0b1f-9933-40ff-c3a7-9a20aa5cf89f"
      },
      "source": [
        "#распаковываем архив\n",
        "!unzip /content/gdrive/MyDrive/archive.zip"
      ],
      "execution_count": 5,
      "outputs": [
        {
          "output_type": "stream",
          "text": [
            "Archive:  /content/gdrive/MyDrive/archive.zip\n",
            "   creating: archive/\n",
            "   creating: archive/s20/\n",
            "  inflating: archive/s20/10.pgm      \n",
            "  inflating: archive/s20/9.pgm       \n",
            "  inflating: archive/s20/4.pgm       \n",
            "  inflating: archive/s20/7.pgm       \n",
            "  inflating: archive/s20/8.pgm       \n",
            "  inflating: archive/s20/6.pgm       \n",
            "  inflating: archive/s20/1.pgm       \n",
            "  inflating: archive/s20/3.pgm       \n",
            "  inflating: archive/s20/2.pgm       \n",
            "  inflating: archive/s20/5.pgm       \n",
            "   creating: archive/s18/\n",
            "  inflating: archive/s18/10.pgm      \n",
            "  inflating: archive/s18/9.pgm       \n",
            "  inflating: archive/s18/4.pgm       \n",
            "  inflating: archive/s18/7.pgm       \n",
            "  inflating: archive/s18/8.pgm       \n",
            "  inflating: archive/s18/6.pgm       \n",
            "  inflating: archive/s18/1.pgm       \n",
            "  inflating: archive/s18/3.pgm       \n",
            "  inflating: archive/s18/2.pgm       \n",
            "  inflating: archive/s18/5.pgm       \n",
            "   creating: archive/s36/\n",
            "  inflating: archive/s36/10.pgm      \n",
            "  inflating: archive/s36/9.pgm       \n",
            "  inflating: archive/s36/4.pgm       \n",
            "  inflating: archive/s36/7.pgm       \n",
            "  inflating: archive/s36/8.pgm       \n",
            "  inflating: archive/s36/6.pgm       \n",
            "  inflating: archive/s36/1.pgm       \n",
            "  inflating: archive/s36/3.pgm       \n",
            "  inflating: archive/s36/2.pgm       \n",
            "  inflating: archive/s36/5.pgm       \n",
            "  inflating: archive/README          \n",
            "   creating: archive/s33/\n",
            "  inflating: archive/s33/10.pgm      \n",
            "  inflating: archive/s33/9.pgm       \n",
            "  inflating: archive/s33/4.pgm       \n",
            "  inflating: archive/s33/7.pgm       \n",
            "  inflating: archive/s33/8.pgm       \n",
            "  inflating: archive/s33/6.pgm       \n",
            "  inflating: archive/s33/1.pgm       \n",
            "  inflating: archive/s33/3.pgm       \n",
            "  inflating: archive/s33/2.pgm       \n",
            "  inflating: archive/s33/5.pgm       \n",
            "   creating: archive/s3/\n",
            "  inflating: archive/s3/10.pgm       \n",
            "  inflating: archive/s3/9.pgm        \n",
            "  inflating: archive/s3/4.pgm        \n",
            "  inflating: archive/s3/7.pgm        \n",
            "  inflating: archive/s3/8.pgm        \n",
            "  inflating: archive/s3/6.pgm        \n",
            "  inflating: archive/s3/1.pgm        \n",
            "  inflating: archive/s3/3.pgm        \n",
            "  inflating: archive/s3/2.pgm        \n",
            "  inflating: archive/s3/5.pgm        \n",
            "   creating: archive/s13/\n",
            "  inflating: archive/s13/10.pgm      \n",
            "  inflating: archive/s13/9.pgm       \n",
            "  inflating: archive/s13/4.pgm       \n",
            "  inflating: archive/s13/7.pgm       \n",
            "  inflating: archive/s13/8.pgm       \n",
            "  inflating: archive/s13/6.pgm       \n",
            "  inflating: archive/s13/1.pgm       \n",
            "  inflating: archive/s13/3.pgm       \n",
            "  inflating: archive/s13/2.pgm       \n",
            "  inflating: archive/s13/5.pgm       \n",
            "   creating: archive/s21/\n",
            "  inflating: archive/s21/10.pgm      \n",
            "  inflating: archive/s21/9.pgm       \n",
            "  inflating: archive/s21/4.pgm       \n",
            "  inflating: archive/s21/7.pgm       \n",
            "  inflating: archive/s21/8.pgm       \n",
            "  inflating: archive/s21/6.pgm       \n",
            "  inflating: archive/s21/1.pgm       \n",
            "  inflating: archive/s21/3.pgm       \n",
            "  inflating: archive/s21/2.pgm       \n",
            "  inflating: archive/s21/5.pgm       \n",
            "   creating: archive/s38/\n",
            "  inflating: archive/s38/10.pgm      \n",
            "  inflating: archive/s38/9.pgm       \n",
            "  inflating: archive/s38/4.pgm       \n",
            "  inflating: archive/s38/7.pgm       \n",
            "  inflating: archive/s38/8.pgm       \n",
            "  inflating: archive/s38/6.pgm       \n",
            "  inflating: archive/s38/1.pgm       \n",
            "  inflating: archive/s38/3.pgm       \n",
            "  inflating: archive/s38/2.pgm       \n",
            "  inflating: archive/s38/5.pgm       \n",
            "   creating: archive/s34/\n",
            "  inflating: archive/s34/10.pgm      \n",
            "  inflating: archive/s34/9.pgm       \n",
            "  inflating: archive/s34/4.pgm       \n",
            "  inflating: archive/s34/7.pgm       \n",
            "  inflating: archive/s34/8.pgm       \n",
            "  inflating: archive/s34/6.pgm       \n",
            "  inflating: archive/s34/1.pgm       \n",
            "  inflating: archive/s34/3.pgm       \n",
            "  inflating: archive/s34/2.pgm       \n",
            "  inflating: archive/s34/5.pgm       \n",
            "   creating: archive/s37/\n",
            "  inflating: archive/s37/10.pgm      \n",
            "  inflating: archive/s37/9.pgm       \n",
            "  inflating: archive/s37/4.pgm       \n",
            "  inflating: archive/s37/7.pgm       \n",
            "  inflating: archive/s37/8.pgm       \n",
            "  inflating: archive/s37/6.pgm       \n",
            "  inflating: archive/s37/1.pgm       \n",
            "  inflating: archive/s37/3.pgm       \n",
            "  inflating: archive/s37/2.pgm       \n",
            "  inflating: archive/s37/5.pgm       \n",
            "   creating: archive/s22/\n",
            "  inflating: archive/s22/10.pgm      \n",
            "  inflating: archive/s22/9.pgm       \n",
            "  inflating: archive/s22/4.pgm       \n",
            "  inflating: archive/s22/7.pgm       \n",
            "  inflating: archive/s22/8.pgm       \n",
            "  inflating: archive/s22/6.pgm       \n",
            "  inflating: archive/s22/1.pgm       \n",
            "  inflating: archive/s22/3.pgm       \n",
            "  inflating: archive/s22/2.pgm       \n",
            "  inflating: archive/s22/5.pgm       \n",
            "   creating: archive/s11/\n",
            "  inflating: archive/s11/10.pgm      \n",
            "  inflating: archive/s11/9.pgm       \n",
            "  inflating: archive/s11/4.pgm       \n",
            "  inflating: archive/s11/7.pgm       \n",
            "  inflating: archive/s11/8.pgm       \n",
            "  inflating: archive/s11/6.pgm       \n",
            "  inflating: archive/s11/1.pgm       \n",
            "  inflating: archive/s11/3.pgm       \n",
            "  inflating: archive/s11/2.pgm       \n",
            "  inflating: archive/s11/5.pgm       \n",
            "   creating: archive/s30/\n",
            "  inflating: archive/s30/10.pgm      \n",
            "  inflating: archive/s30/9.pgm       \n",
            "  inflating: archive/s30/4.pgm       \n",
            "  inflating: archive/s30/7.pgm       \n",
            "  inflating: archive/s30/8.pgm       \n",
            "  inflating: archive/s30/6.pgm       \n",
            "  inflating: archive/s30/1.pgm       \n",
            "  inflating: archive/s30/3.pgm       \n",
            "  inflating: archive/s30/2.pgm       \n",
            "  inflating: archive/s30/5.pgm       \n",
            "   creating: archive/s16/\n",
            "  inflating: archive/s16/10.pgm      \n",
            "  inflating: archive/s16/9.pgm       \n",
            "  inflating: archive/s16/4.pgm       \n",
            "  inflating: archive/s16/7.pgm       \n",
            "  inflating: archive/s16/8.pgm       \n",
            "  inflating: archive/s16/6.pgm       \n",
            "  inflating: archive/s16/1.pgm       \n",
            "  inflating: archive/s16/3.pgm       \n",
            "  inflating: archive/s16/2.pgm       \n",
            "  inflating: archive/s16/5.pgm       \n",
            "   creating: archive/s19/\n",
            "  inflating: archive/s19/10.pgm      \n",
            "  inflating: archive/s19/9.pgm       \n",
            "  inflating: archive/s19/4.pgm       \n",
            "  inflating: archive/s19/7.pgm       \n",
            "  inflating: archive/s19/8.pgm       \n",
            "  inflating: archive/s19/6.pgm       \n",
            "  inflating: archive/s19/1.pgm       \n",
            "  inflating: archive/s19/3.pgm       \n",
            "  inflating: archive/s19/2.pgm       \n",
            "  inflating: archive/s19/5.pgm       \n",
            "   creating: archive/s26/\n",
            "  inflating: archive/s26/10.pgm      \n",
            "  inflating: archive/s26/9.pgm       \n",
            "  inflating: archive/s26/4.pgm       \n",
            "  inflating: archive/s26/7.pgm       \n",
            "  inflating: archive/s26/8.pgm       \n",
            "  inflating: archive/s26/6.pgm       \n",
            "  inflating: archive/s26/1.pgm       \n",
            "  inflating: archive/s26/3.pgm       \n",
            "  inflating: archive/s26/2.pgm       \n",
            "  inflating: archive/s26/5.pgm       \n",
            "   creating: archive/s23/\n",
            "  inflating: archive/s23/10.pgm      \n",
            "  inflating: archive/s23/9.pgm       \n",
            "  inflating: archive/s23/4.pgm       \n",
            "  inflating: archive/s23/7.pgm       \n",
            "  inflating: archive/s23/8.pgm       \n",
            "  inflating: archive/s23/6.pgm       \n",
            "  inflating: archive/s23/1.pgm       \n",
            "  inflating: archive/s23/3.pgm       \n",
            "  inflating: archive/s23/2.pgm       \n",
            "  inflating: archive/s23/5.pgm       \n",
            "   creating: archive/s7/\n",
            "  inflating: archive/s7/10.pgm       \n",
            "  inflating: archive/s7/9.pgm        \n",
            "  inflating: archive/s7/4.pgm        \n",
            "  inflating: archive/s7/7.pgm        \n",
            "  inflating: archive/s7/8.pgm        \n",
            "  inflating: archive/s7/6.pgm        \n",
            "  inflating: archive/s7/1.pgm        \n",
            "  inflating: archive/s7/3.pgm        \n",
            "  inflating: archive/s7/2.pgm        \n",
            "  inflating: archive/s7/5.pgm        \n",
            "   creating: archive/s17/\n",
            "  inflating: archive/s17/10.pgm      \n",
            "  inflating: archive/s17/9.pgm       \n",
            "  inflating: archive/s17/4.pgm       \n",
            "  inflating: archive/s17/7.pgm       \n",
            "  inflating: archive/s17/8.pgm       \n",
            "  inflating: archive/s17/6.pgm       \n",
            "  inflating: archive/s17/1.pgm       \n",
            "  inflating: archive/s17/3.pgm       \n",
            "  inflating: archive/s17/2.pgm       \n",
            "  inflating: archive/s17/5.pgm       \n",
            "   creating: archive/s32/\n",
            "  inflating: archive/s32/10.pgm      \n",
            "  inflating: archive/s32/9.pgm       \n",
            "  inflating: archive/s32/4.pgm       \n",
            "  inflating: archive/s32/7.pgm       \n",
            "  inflating: archive/s32/8.pgm       \n",
            "  inflating: archive/s32/6.pgm       \n",
            "  inflating: archive/s32/1.pgm       \n",
            "  inflating: archive/s32/3.pgm       \n",
            "  inflating: archive/s32/2.pgm       \n",
            "  inflating: archive/s32/5.pgm       \n",
            "   creating: archive/s12/\n",
            "  inflating: archive/s12/10.pgm      \n",
            "  inflating: archive/s12/9.pgm       \n",
            "  inflating: archive/s12/4.pgm       \n",
            "  inflating: archive/s12/7.pgm       \n",
            "  inflating: archive/s12/8.pgm       \n",
            "  inflating: archive/s12/6.pgm       \n",
            "  inflating: archive/s12/1.pgm       \n",
            "  inflating: archive/s12/3.pgm       \n",
            "  inflating: archive/s12/2.pgm       \n",
            "  inflating: archive/s12/5.pgm       \n",
            "   creating: archive/s27/\n",
            "  inflating: archive/s27/10.pgm      \n",
            "  inflating: archive/s27/9.pgm       \n",
            "  inflating: archive/s27/4.pgm       \n",
            "  inflating: archive/s27/7.pgm       \n",
            "  inflating: archive/s27/8.pgm       \n",
            "  inflating: archive/s27/6.pgm       \n",
            "  inflating: archive/s27/1.pgm       \n",
            "  inflating: archive/s27/3.pgm       \n",
            "  inflating: archive/s27/2.pgm       \n",
            "  inflating: archive/s27/5.pgm       \n",
            "   creating: archive/s40/\n",
            "  inflating: archive/s40/10.pgm      \n",
            "  inflating: archive/s40/9.pgm       \n",
            "  inflating: archive/s40/4.pgm       \n",
            "  inflating: archive/s40/7.pgm       \n",
            "  inflating: archive/s40/8.pgm       \n",
            "  inflating: archive/s40/6.pgm       \n",
            "  inflating: archive/s40/1.pgm       \n",
            "  inflating: archive/s40/3.pgm       \n",
            "  inflating: archive/s40/2.pgm       \n",
            "  inflating: archive/s40/5.pgm       \n",
            "   creating: archive/s4/\n",
            "  inflating: archive/s4/10.pgm       \n",
            "  inflating: archive/s4/9.pgm        \n",
            "  inflating: archive/s4/4.pgm        \n",
            "  inflating: archive/s4/7.pgm        \n",
            "  inflating: archive/s4/8.pgm        \n",
            "  inflating: archive/s4/6.pgm        \n",
            "  inflating: archive/s4/1.pgm        \n",
            "  inflating: archive/s4/3.pgm        \n",
            "  inflating: archive/s4/2.pgm        \n",
            "  inflating: archive/s4/5.pgm        \n",
            "   creating: archive/s28/\n",
            "  inflating: archive/s28/10.pgm      \n",
            "  inflating: archive/s28/9.pgm       \n",
            "  inflating: archive/s28/4.pgm       \n",
            "  inflating: archive/s28/7.pgm       \n",
            "  inflating: archive/s28/8.pgm       \n",
            "  inflating: archive/s28/6.pgm       \n",
            "  inflating: archive/s28/1.pgm       \n",
            "  inflating: archive/s28/3.pgm       \n",
            "  inflating: archive/s28/2.pgm       \n",
            "  inflating: archive/s28/5.pgm       \n",
            "   creating: archive/s1/\n",
            "  inflating: archive/s1/10.pgm       \n",
            "  inflating: archive/s1/9.pgm        \n",
            "  inflating: archive/s1/4.pgm        \n",
            "  inflating: archive/s1/7.pgm        \n",
            "  inflating: archive/s1/8.pgm        \n",
            "  inflating: archive/s1/6.pgm        \n",
            "  inflating: archive/s1/1.pgm        \n",
            "  inflating: archive/s1/3.pgm        \n",
            "  inflating: archive/s1/2.pgm        \n",
            "  inflating: archive/s1/5.pgm        \n",
            "   creating: archive/s10/\n",
            "  inflating: archive/s10/10.pgm      \n",
            "  inflating: archive/s10/9.pgm       \n",
            "  inflating: archive/s10/4.pgm       \n",
            "  inflating: archive/s10/7.pgm       \n",
            "  inflating: archive/s10/8.pgm       \n",
            "  inflating: archive/s10/6.pgm       \n",
            "  inflating: archive/s10/1.pgm       \n",
            "  inflating: archive/s10/3.pgm       \n",
            "  inflating: archive/s10/2.pgm       \n",
            "  inflating: archive/s10/5.pgm       \n",
            "   creating: archive/s24/\n",
            "  inflating: archive/s24/10.pgm      \n",
            "  inflating: archive/s24/9.pgm       \n",
            "  inflating: archive/s24/4.pgm       \n",
            "  inflating: archive/s24/7.pgm       \n",
            "  inflating: archive/s24/8.pgm       \n",
            "  inflating: archive/s24/6.pgm       \n",
            "  inflating: archive/s24/1.pgm       \n",
            "  inflating: archive/s24/3.pgm       \n",
            "  inflating: archive/s24/2.pgm       \n",
            "  inflating: archive/s24/5.pgm       \n",
            "   creating: archive/s31/\n",
            "  inflating: archive/s31/10.pgm      \n",
            "  inflating: archive/s31/9.pgm       \n",
            "  inflating: archive/s31/4.pgm       \n",
            "  inflating: archive/s31/7.pgm       \n",
            "  inflating: archive/s31/8.pgm       \n",
            "  inflating: archive/s31/6.pgm       \n",
            "  inflating: archive/s31/1.pgm       \n",
            "  inflating: archive/s31/3.pgm       \n",
            "  inflating: archive/s31/2.pgm       \n",
            "  inflating: archive/s31/5.pgm       \n",
            "   creating: archive/s39/\n",
            "  inflating: archive/s39/10.pgm      \n",
            "  inflating: archive/s39/9.pgm       \n",
            "  inflating: archive/s39/4.pgm       \n",
            "  inflating: archive/s39/7.pgm       \n",
            "  inflating: archive/s39/8.pgm       \n",
            "  inflating: archive/s39/6.pgm       \n",
            "  inflating: archive/s39/1.pgm       \n",
            "  inflating: archive/s39/3.pgm       \n",
            "  inflating: archive/s39/2.pgm       \n",
            "  inflating: archive/s39/5.pgm       \n",
            "   creating: archive/s41/\n",
            "  inflating: archive/s41/10.pgm      \n",
            "  inflating: archive/s41/9.pgm       \n",
            "  inflating: archive/s41/4.pgm       \n",
            "  inflating: archive/s41/7.pgm       \n",
            "  inflating: archive/s41/8.pgm       \n",
            "  inflating: archive/s41/6.pgm       \n",
            "  inflating: archive/s41/1.pgm       \n",
            "  inflating: archive/s41/3.pgm       \n",
            "  inflating: archive/s41/2.pgm       \n",
            "  inflating: archive/s41/5.pgm       \n",
            "   creating: archive/s35/\n",
            "  inflating: archive/s35/10.pgm      \n",
            "  inflating: archive/s35/9.pgm       \n",
            "  inflating: archive/s35/4.pgm       \n",
            "  inflating: archive/s35/7.pgm       \n",
            "  inflating: archive/s35/8.pgm       \n",
            "  inflating: archive/s35/6.pgm       \n",
            "  inflating: archive/s35/1.pgm       \n",
            "  inflating: archive/s35/3.pgm       \n",
            "  inflating: archive/s35/2.pgm       \n",
            "  inflating: archive/s35/5.pgm       \n",
            "  inflating: archive/names.json      \n",
            "   creating: archive/s8/\n",
            "  inflating: archive/s8/10.pgm       \n",
            "  inflating: archive/s8/9.pgm        \n",
            "  inflating: archive/s8/4.pgm        \n",
            "  inflating: archive/s8/7.pgm        \n",
            "  inflating: archive/s8/8.pgm        \n",
            "  inflating: archive/s8/6.pgm        \n",
            "  inflating: archive/s8/1.pgm        \n",
            "  inflating: archive/s8/3.pgm        \n",
            "  inflating: archive/s8/2.pgm        \n",
            "  inflating: archive/s8/5.pgm        \n",
            "   creating: archive/s5/\n",
            "  inflating: archive/s5/10.pgm       \n",
            "  inflating: archive/s5/9.pgm        \n",
            "  inflating: archive/s5/4.pgm        \n",
            "  inflating: archive/s5/7.pgm        \n",
            "  inflating: archive/s5/8.pgm        \n",
            "  inflating: archive/s5/6.pgm        \n",
            "  inflating: archive/s5/1.pgm        \n",
            "  inflating: archive/s5/3.pgm        \n",
            "  inflating: archive/s5/2.pgm        \n",
            "  inflating: archive/s5/5.pgm        \n",
            "   creating: archive/s29/\n",
            "  inflating: archive/s29/10.pgm      \n",
            "  inflating: archive/s29/9.pgm       \n",
            "  inflating: archive/s29/4.pgm       \n",
            "  inflating: archive/s29/7.pgm       \n",
            "  inflating: archive/s29/8.pgm       \n",
            "  inflating: archive/s29/6.pgm       \n",
            "  inflating: archive/s29/1.pgm       \n",
            "  inflating: archive/s29/3.pgm       \n",
            "  inflating: archive/s29/2.pgm       \n",
            "  inflating: archive/s29/5.pgm       \n",
            "   creating: archive/s9/\n",
            "  inflating: archive/s9/10.pgm       \n",
            "  inflating: archive/s9/9.pgm        \n",
            "  inflating: archive/s9/4.pgm        \n",
            "  inflating: archive/s9/7.pgm        \n",
            "  inflating: archive/s9/8.pgm        \n",
            "  inflating: archive/s9/6.pgm        \n",
            "  inflating: archive/s9/1.pgm        \n",
            "  inflating: archive/s9/3.pgm        \n",
            "  inflating: archive/s9/2.pgm        \n",
            "  inflating: archive/s9/5.pgm        \n",
            "   creating: archive/s25/\n",
            "  inflating: archive/s25/10.pgm      \n",
            "  inflating: archive/s25/9.pgm       \n",
            "  inflating: archive/s25/4.pgm       \n",
            "  inflating: archive/s25/7.pgm       \n",
            "  inflating: archive/s25/8.pgm       \n",
            "  inflating: archive/s25/6.pgm       \n",
            "  inflating: archive/s25/1.pgm       \n",
            "  inflating: archive/s25/3.pgm       \n",
            "  inflating: archive/s25/2.pgm       \n",
            "  inflating: archive/s25/5.pgm       \n",
            "   creating: archive/s2/\n",
            "  inflating: archive/s2/10.pgm       \n",
            "  inflating: archive/s2/9.pgm        \n",
            "  inflating: archive/s2/4.pgm        \n",
            "  inflating: archive/s2/7.pgm        \n",
            "  inflating: archive/s2/8.pgm        \n",
            "  inflating: archive/s2/6.pgm        \n",
            "  inflating: archive/s2/1.pgm        \n",
            "  inflating: archive/s2/3.pgm        \n",
            "  inflating: archive/s2/2.pgm        \n",
            "  inflating: archive/s2/5.pgm        \n",
            "   creating: archive/s6/\n",
            "  inflating: archive/s6/10.pgm       \n",
            "  inflating: archive/s6/9.pgm        \n",
            "  inflating: archive/s6/4.pgm        \n",
            "  inflating: archive/s6/7.pgm        \n",
            "  inflating: archive/s6/8.pgm        \n",
            "  inflating: archive/s6/6.pgm        \n",
            "  inflating: archive/s6/1.pgm        \n",
            "  inflating: archive/s6/3.pgm        \n",
            "  inflating: archive/s6/2.pgm        \n",
            "  inflating: archive/s6/5.pgm        \n",
            "   creating: archive/s14/\n",
            "  inflating: archive/s14/10.pgm      \n",
            "  inflating: archive/s14/9.pgm       \n",
            "  inflating: archive/s14/4.pgm       \n",
            "  inflating: archive/s14/7.pgm       \n",
            "  inflating: archive/s14/8.pgm       \n",
            "  inflating: archive/s14/6.pgm       \n",
            "  inflating: archive/s14/1.pgm       \n",
            "  inflating: archive/s14/3.pgm       \n",
            "  inflating: archive/s14/2.pgm       \n",
            "  inflating: archive/s14/5.pgm       \n",
            "   creating: archive/s15/\n",
            "  inflating: archive/s15/10.pgm      \n",
            "  inflating: archive/s15/9.pgm       \n",
            "  inflating: archive/s15/4.pgm       \n",
            "  inflating: archive/s15/7.pgm       \n",
            "  inflating: archive/s15/8.pgm       \n",
            "  inflating: archive/s15/6.pgm       \n",
            "  inflating: archive/s15/1.pgm       \n",
            "  inflating: archive/s15/3.pgm       \n",
            "  inflating: archive/s15/2.pgm       \n",
            "  inflating: archive/s15/5.pgm       \n"
          ],
          "name": "stdout"
        }
      ]
    },
    {
      "cell_type": "code",
      "metadata": {
        "colab": {
          "base_uri": "https://localhost:8080/"
        },
        "id": "cLsBfkdwMkTD",
        "outputId": "583c95aa-c737-4456-dfd7-890be62d90b7"
      },
      "source": [
        "img = read_image('archive/s1/1.pgm')\n",
        "img.shape"
      ],
      "execution_count": 19,
      "outputs": [
        {
          "output_type": "execute_result",
          "data": {
            "text/plain": [
              "(112, 92)"
            ]
          },
          "metadata": {
            "tags": []
          },
          "execution_count": 19
        }
      ]
    },
    {
      "cell_type": "code",
      "metadata": {
        "colab": {
          "base_uri": "https://localhost:8080/",
          "height": 129
        },
        "id": "gxPFkq8_x53U",
        "outputId": "87f68bcf-9e71-4181-f843-f6b1cfe6fb7b"
      },
      "source": [
        "Image.open(\"archive/s1/1.pgm\")"
      ],
      "execution_count": 21,
      "outputs": [
        {
          "output_type": "execute_result",
          "data": {
            "image/png": "[encoded data removed]",
            "text/plain": [
              "<PIL.PpmImagePlugin.PpmImageFile image mode=L size=92x112 at 0x7FEBB7CA78D0>"
            ]
          },
          "metadata": {
            "tags": []
          },
          "execution_count": 21
        }
      ]
    },
    {
      "cell_type": "code",
      "metadata": {
        "colab": {
          "base_uri": "https://localhost:8080/",
          "height": 129
        },
        "id": "ZZDetZORyFwk",
        "outputId": "7f8a51eb-864a-4d15-ce07-162ee40343dd"
      },
      "source": [
        "Image.open(\"archive/s2/1.pgm\")"
      ],
      "execution_count": 22,
      "outputs": [
        {
          "output_type": "execute_result",
          "data": {
            "image/png": "[encoded data removed]",
            "text/plain": [
              "<PIL.PpmImagePlugin.PpmImageFile image mode=L size=92x112 at 0x7FEC10703E50>"
            ]
          },
          "metadata": {
            "tags": []
          },
          "execution_count": 22
        }
      ]
    },
    {
      "cell_type": "code",
      "metadata": {
        "colab": {
          "base_uri": "https://localhost:8080/",
          "height": 129
        },
        "id": "9nzGXSlIyH7D",
        "outputId": "f568cf0b-116d-4eba-9a55-f46a9ac6f3b2"
      },
      "source": [
        "Image.open(\"archive/s41/1.pgm\")"
      ],
      "execution_count": 23,
      "outputs": [
        {
          "output_type": "execute_result",
          "data": {
            "image/png": "[encoded data removed]",
            "text/plain": [
              "<PIL.PpmImagePlugin.PpmImageFile image mode=L size=92x112 at 0x7FEC1038BBD0>"
            ]
          },
          "metadata": {
            "tags": []
          },
          "execution_count": 23
        }
      ]
    },
    {
      "cell_type": "code",
      "metadata": {
        "colab": {
          "base_uri": "https://localhost:8080/",
          "height": 129
        },
        "id": "P3Imzs40yKOo",
        "outputId": "fb9c9866-a814-4b27-bdaf-cc29746489a7"
      },
      "source": [
        "Image.open(\"archive/s41/2.pgm\")"
      ],
      "execution_count": 24,
      "outputs": [
        {
          "output_type": "execute_result",
          "data": {
            "image/png": "[encoded data removed]",
            "text/plain": [
              "<PIL.PpmImagePlugin.PpmImageFile image mode=L size=92x112 at 0x7FEBB7C8F090>"
            ]
          },
          "metadata": {
            "tags": []
          },
          "execution_count": 24
        }
      ]
    },
    {
      "cell_type": "code",
      "metadata": {
        "id": "LiO8_CN1X8mN"
      },
      "source": [
        "size = 2\n",
        "total_sample_size = 10000"
      ],
      "execution_count": 5,
      "outputs": []
    },
    {
      "cell_type": "code",
      "metadata": {
        "id": "otAEVz8tN9FV"
      },
      "source": [
        "def get_data(size, total_sample_size):\n",
        "    image = read_image('archive/s' + str(1) + '/' + str(1) + '.pgm', 'rw+')\n",
        "    image = image[::size, ::size]\n",
        "    dim1 = image.shape[0]\n",
        "    dim2 = image.shape[1]\n",
        "\n",
        "    count = 0\n",
        "    \n",
        "    x_geuine_pair = np.zeros([total_sample_size, 2, 1, dim1, dim2])\n",
        "    y_genuine = np.zeros([total_sample_size, 1])\n",
        "    \n",
        "    for i in range(40):\n",
        "        for j in range(int(total_sample_size/40)):\n",
        "            ind1 = 0\n",
        "            ind2 = 0\n",
        "            \n",
        "            while ind1 == ind2:\n",
        "                ind1 = np.random.randint(10)\n",
        "                ind2 = np.random.randint(10)\n",
        "            \n",
        "            img1 = read_image('archive/s' + str(i+1) + '/' + str(ind1 + 1) + '.pgm', 'rw+')\n",
        "            img2 = read_image('archive/s' + str(i+1) + '/' + str(ind2 + 1) + '.pgm', 'rw+')\n",
        "            \n",
        "            img1 = img1[::size, ::size]\n",
        "            img2 = img2[::size, ::size]\n",
        "            \n",
        "            x_geuine_pair[count, 0, 0, :, :] = img1\n",
        "            x_geuine_pair[count, 1, 0, :, :] = img2\n",
        "            \n",
        "            y_genuine[count] = 1\n",
        "            count += 1\n",
        "\n",
        "    count = 0\n",
        "    x_imposite_pair = np.zeros([total_sample_size, 2, 1, dim1, dim2])\n",
        "    y_imposite = np.zeros([total_sample_size, 1])\n",
        "    \n",
        "    for i in range(int(total_sample_size/10)):\n",
        "        for j in range(10):\n",
        "            while True:\n",
        "                ind1 = np.random.randint(40)\n",
        "                ind2 = np.random.randint(40)\n",
        "                if ind1 != ind2:\n",
        "                    break\n",
        "                    \n",
        "            img1 = read_image('archive/s' + str(ind1+1) + '/' + str(j + 1) + '.pgm', 'rw+')\n",
        "            img2 = read_image('archive/s' + str(ind2+1) + '/' + str(j + 1) + '.pgm', 'rw+')\n",
        "\n",
        "            img1 = img1[::size, ::size]\n",
        "            img2 = img2[::size, ::size]\n",
        "\n",
        "            x_imposite_pair[count, 0, 0, :, :] = img1\n",
        "            x_imposite_pair[count, 1, 0, :, :] = img2\n",
        "            y_imposite[count] = 0\n",
        "            count += 1\n",
        "            \n",
        "    X = np.concatenate([x_geuine_pair, x_imposite_pair], axis=0)/255\n",
        "    Y = np.concatenate([y_genuine, y_imposite], axis=0)\n",
        "\n",
        "    return X, Y"
      ],
      "execution_count": 25,
      "outputs": []
    },
    {
      "cell_type": "code",
      "metadata": {
        "id": "KhSUwQv5QLP8"
      },
      "source": [
        "X, Y = get_data(size, total_sample_size)"
      ],
      "execution_count": 14,
      "outputs": []
    },
    {
      "cell_type": "code",
      "metadata": {
        "id": "dboFKmHZQqIl"
      },
      "source": [
        "# для обучения, выполнять не нужно \n",
        "def build_base_network(input_shape):\n",
        "    \n",
        "    seq = Sequential()\n",
        "    \n",
        "    nb_filter = [6, 12]\n",
        "    kernel_size = 3\n",
        "    \n",
        "    \n",
        "    #convolutional layer 1\n",
        "    seq.add(Convolution2D(nb_filter[0], kernel_size, input_shape=input_shape, data_format='channels_first'))\n",
        "    seq.add(Activation('relu'))\n",
        "    seq.add(MaxPooling2D(pool_size=(2, 2))) \n",
        "    seq.add(Dropout(.25))\n",
        "    \n",
        "    #convolutional layer 2\n",
        "    seq.add(Convolution2D(nb_filter[1], kernel_size, data_format='channels_first'))\n",
        "    seq.add(Activation('relu'))\n",
        "    seq.add(MaxPooling2D(pool_size=(2, 2))) \n",
        "    seq.add(Dropout(.25))\n",
        "\n",
        "    seq.add(Flatten())\n",
        "    seq.add(Dense(128, activation='relu'))\n",
        "    seq.add(Dropout(0.1))\n",
        "    seq.add(Dense(50, activation='relu'))\n",
        "    return seq"
      ],
      "execution_count": 9,
      "outputs": []
    },
    {
      "cell_type": "code",
      "metadata": {
        "id": "ZKyCAlmTRLOi"
      },
      "source": [
        "x_train, x_test, y_train, y_test = train_test_split(X, Y, test_size=.25)"
      ],
      "execution_count": 15,
      "outputs": []
    },
    {
      "cell_type": "code",
      "metadata": {
        "colab": {
          "base_uri": "https://localhost:8080/"
        },
        "id": "sy7ic6DIRDF_",
        "outputId": "02f80b7c-162c-4b46-e591-788d0821bd93"
      },
      "source": [
        "# выполняем ячейку\n",
        "input_dim = x_train.shape[2:]\n",
        "print(input_dim)\n",
        "img_a = Input(shape=input_dim)\n",
        "img_b = Input(shape=input_dim)\n",
        "\n",
        "base_network = build_base_network(input_dim)\n",
        "feat_vecs_a = base_network(img_a)\n",
        "feat_vecs_b = base_network(img_b)"
      ],
      "execution_count": 16,
      "outputs": [
        {
          "output_type": "stream",
          "text": [
            "(1, 56, 46)\n"
          ],
          "name": "stdout"
        }
      ]
    },
    {
      "cell_type": "code",
      "metadata": {
        "id": "7pRGlKySRGhP"
      },
      "source": [
        "def euclidean_distance(vects):\n",
        "    x, y = vects\n",
        "    return K.sqrt(K.sum(K.square(x - y), axis=1, keepdims=True))\n",
        "\n",
        "def eucl_dist_output_shape(shapes):\n",
        "    shape1, shape2 = shapes\n",
        "    return (shape1[0], 1)\n",
        "\n",
        "def contrastive_loss(y_true, y_pred):\n",
        "    margin = 1\n",
        "    return K.mean(y_true * K.square(y_pred) + (1 - y_true) * K.square(K.maximum(margin - y_pred, 0)))\n"
      ],
      "execution_count": 9,
      "outputs": []
    },
    {
      "cell_type": "code",
      "metadata": {
        "id": "dnP0s36OcU2Z"
      },
      "source": [
        "distance = Lambda(euclidean_distance, output_shape=eucl_dist_output_shape)([feat_vecs_a, feat_vecs_b])"
      ],
      "execution_count": null,
      "outputs": []
    },
    {
      "cell_type": "code",
      "metadata": {
        "id": "KMmreR6tXsfT"
      },
      "source": [
        "epochs = 13\n",
        "rms = RMSprop()\n",
        "model = Model([img_a, img_b], distance)"
      ],
      "execution_count": null,
      "outputs": []
    },
    {
      "cell_type": "code",
      "metadata": {
        "id": "v_8fv8hVXv19"
      },
      "source": [
        "model.compile(loss=contrastive_loss, optimizer=rms)"
      ],
      "execution_count": 22,
      "outputs": []
    },
    {
      "cell_type": "code",
      "metadata": {
        "colab": {
          "base_uri": "https://localhost:8080/"
        },
        "id": "XPgUN6tHjJVC",
        "outputId": "872eb812-e278-4e19-9fe2-99c629a73c54"
      },
      "source": [
        "img_1 = x_train[:, 0]\n",
        "img_2 = x_train[:, 1] \n",
        "\n",
        "model.fit([img_1, img_2], y_train, validation_split=.25, batch_size=128, verbose=2, epochs=epochs)"
      ],
      "execution_count": null,
      "outputs": [
        {
          "output_type": "stream",
          "text": [
            "Epoch 1/13\n",
            "88/88 - 3s - loss: 0.1869 - val_loss: 0.1920\n",
            "Epoch 2/13\n",
            "88/88 - 1s - loss: 0.1117 - val_loss: 0.0933\n",
            "Epoch 3/13\n",
            "88/88 - 1s - loss: 0.0799 - val_loss: 0.1012\n",
            "Epoch 4/13\n",
            "88/88 - 1s - loss: 0.0652 - val_loss: 0.0749\n",
            "Epoch 5/13\n",
            "88/88 - 1s - loss: 0.0552 - val_loss: 0.0475\n",
            "Epoch 6/13\n",
            "88/88 - 1s - loss: 0.0483 - val_loss: 0.0364\n",
            "Epoch 7/13\n",
            "88/88 - 1s - loss: 0.0436 - val_loss: 0.0309\n",
            "Epoch 8/13\n",
            "88/88 - 1s - loss: 0.0406 - val_loss: 0.0368\n",
            "Epoch 9/13\n",
            "88/88 - 1s - loss: 0.0372 - val_loss: 0.0284\n",
            "Epoch 10/13\n",
            "88/88 - 1s - loss: 0.0342 - val_loss: 0.0220\n",
            "Epoch 11/13\n",
            "88/88 - 1s - loss: 0.0326 - val_loss: 0.0204\n",
            "Epoch 12/13\n",
            "88/88 - 1s - loss: 0.0301 - val_loss: 0.0272\n",
            "Epoch 13/13\n",
            "88/88 - 1s - loss: 0.0282 - val_loss: 0.0176\n"
          ],
          "name": "stdout"
        },
        {
          "output_type": "execute_result",
          "data": {
            "text/plain": [
              "<keras.callbacks.History at 0x7f21d85c0f50>"
            ]
          },
          "metadata": {
            "tags": []
          },
          "execution_count": 36
        }
      ]
    },
    {
      "cell_type": "code",
      "metadata": {
        "id": "RJCVj-hajLtD"
      },
      "source": [
        "pred = model.predict([x_test[:, 0], x_test[:, 1]])"
      ],
      "execution_count": null,
      "outputs": []
    },
    {
      "cell_type": "code",
      "metadata": {
        "id": "lw3zy6gXvYMW"
      },
      "source": [
        "def compute_accuracy(predictions, labels):\n",
        "    return labels[predictions.ravel() < 0.5].mean()"
      ],
      "execution_count": null,
      "outputs": []
    },
    {
      "cell_type": "code",
      "metadata": {
        "colab": {
          "base_uri": "https://localhost:8080/"
        },
        "id": "lJNJVCG9vZ-9",
        "outputId": "0ecbe347-d018-416f-e32d-fa34d47e7d2f"
      },
      "source": [
        "compute_accuracy(pred, y_test)"
      ],
      "execution_count": null,
      "outputs": [
        {
          "output_type": "execute_result",
          "data": {
            "text/plain": [
              "0.9627304825421734"
            ]
          },
          "metadata": {
            "tags": []
          },
          "execution_count": 39
        }
      ]
    },
    {
      "cell_type": "code",
      "metadata": {
        "id": "I5Zqs9Mo2rCH"
      },
      "source": [
        "#дообучение нейронки на нового человека\n",
        "\n",
        "#генерация пар с этим человеком для дообучения\n",
        "def get_pairs(number, size, total_sample_size): #number - номер папки человека\n",
        "  path, dirs, files = next(os.walk(\"archive\"))\n",
        "  dirs_count = len(dirs)\n",
        "\n",
        "  image_p = Image.open('archive/s' + str(number) + '/' + str(1) + '.pgm')\n",
        "  image = np.array(image_p)\n",
        "  image = image[::size, ::size]\n",
        "  dim1 = image.shape[0]\n",
        "  dim2 = image.shape[1]\n",
        "  \n",
        "  count = 0\n",
        "    \n",
        "  x_geuine_pair = np.zeros([total_sample_size, 2, 1, dim1, dim2]) # 2 is for pairs\n",
        "  y_genuine = np.zeros([total_sample_size, 1])\n",
        "\n",
        "  for i in range(len(dirs)):\n",
        "        for j in range(int(total_sample_size/len(dirs))):\n",
        "            ind1 = 0\n",
        "            ind2 = 0\n",
        "            \n",
        "            while ind1 == ind2:\n",
        "                ind1 = np.random.randint(10)\n",
        "                ind2 = np.random.randint(10)\n",
        "            \n",
        "            img1 = read_image('archive/s' + str(i+1) + '/' + str(ind1 + 1) + '.pgm', 'rw+')\n",
        "            img2 = read_image('archive/s' + str(i+1) + '/' + str(ind2 + 1) + '.pgm', 'rw+')\n",
        "            \n",
        "            img1 = img1[::size, ::size]\n",
        "            img2 = img2[::size, ::size]\n",
        "            \n",
        "            x_geuine_pair[count, 0, 0, :, :] = img1\n",
        "            x_geuine_pair[count, 1, 0, :, :] = img2\n",
        "            \n",
        "            y_genuine[count] = 1\n",
        "            count += 1\n",
        "\n",
        "  count = 0\n",
        "  x_imposite_pair = np.zeros([total_sample_size, 2, 1, dim1, dim2])\n",
        "  y_imposite = np.zeros([total_sample_size, 1])\n",
        "  \n",
        "  for i in range(int(total_sample_size/10)):\n",
        "      for j in range(10):\n",
        "          \n",
        "          while True:\n",
        "              ind1 = np.random.randint(len(dirs))\n",
        "              ind2 = np.random.randint(len(dirs))\n",
        "              if ind1 != ind2:\n",
        "                  break\n",
        "                  \n",
        "          img1 = read_image('archive/s' + str(ind1+1) + '/' + str(j + 1) + '.pgm', 'rw+')\n",
        "          img2 = read_image('archive/s' + str(ind2+1) + '/' + str(j + 1) + '.pgm', 'rw+')\n",
        "\n",
        "          img1 = img1[::size, ::size]\n",
        "          img2 = img2[::size, ::size]\n",
        "\n",
        "          x_imposite_pair[count, 0, 0, :, :] = img1\n",
        "          x_imposite_pair[count, 1, 0, :, :] = img2\n",
        "          y_imposite[count] = 0\n",
        "          count += 1\n",
        "          \n",
        "  X = np.concatenate([x_geuine_pair, x_imposite_pair], axis=0)/255\n",
        "  Y = np.concatenate([y_genuine, y_imposite], axis=0)\n",
        "\n",
        "  return X, Y"
      ],
      "execution_count": null,
      "outputs": []
    },
    {
      "cell_type": "code",
      "metadata": {
        "id": "CGKY7dv4-73d",
        "colab": {
          "base_uri": "https://localhost:8080/"
        },
        "outputId": "f7bea151-bcc4-4de5-d541-bd7f35fe4288"
      },
      "source": [
        "X, Y = get_pairs(41, 2, 2000)\n",
        "\n",
        "x_train, x_test, y_train, y_test = train_test_split(X, Y, test_size=.25)\n",
        "\n",
        "img_1 = x_train[:, 0]\n",
        "img_2 = x_train[:, 1] \n",
        "\n",
        "model.fit([img_1, img_2], y_train, validation_split=.25, batch_size=128, verbose=2, epochs=30)"
      ],
      "execution_count": null,
      "outputs": [
        {
          "output_type": "stream",
          "text": [
            "Epoch 1/30\n",
            "18/18 - 0s - loss: 0.0249 - val_loss: 0.0236\n",
            "Epoch 2/30\n",
            "18/18 - 0s - loss: 0.0234 - val_loss: 0.0265\n",
            "Epoch 3/30\n",
            "18/18 - 0s - loss: 0.0215 - val_loss: 0.0190\n",
            "Epoch 4/30\n",
            "18/18 - 0s - loss: 0.0218 - val_loss: 0.0213\n",
            "Epoch 5/30\n",
            "18/18 - 0s - loss: 0.0207 - val_loss: 0.0238\n",
            "Epoch 6/30\n",
            "18/18 - 0s - loss: 0.0207 - val_loss: 0.0203\n",
            "Epoch 7/30\n",
            "18/18 - 0s - loss: 0.0194 - val_loss: 0.0221\n",
            "Epoch 8/30\n",
            "18/18 - 0s - loss: 0.0185 - val_loss: 0.0182\n",
            "Epoch 9/30\n",
            "18/18 - 0s - loss: 0.0192 - val_loss: 0.0213\n",
            "Epoch 10/30\n",
            "18/18 - 0s - loss: 0.0170 - val_loss: 0.0202\n",
            "Epoch 11/30\n",
            "18/18 - 0s - loss: 0.0178 - val_loss: 0.0218\n",
            "Epoch 12/30\n",
            "18/18 - 0s - loss: 0.0173 - val_loss: 0.0204\n",
            "Epoch 13/30\n",
            "18/18 - 0s - loss: 0.0174 - val_loss: 0.0203\n",
            "Epoch 14/30\n",
            "18/18 - 0s - loss: 0.0176 - val_loss: 0.0184\n",
            "Epoch 15/30\n",
            "18/18 - 0s - loss: 0.0165 - val_loss: 0.0194\n",
            "Epoch 16/30\n",
            "18/18 - 0s - loss: 0.0161 - val_loss: 0.0194\n",
            "Epoch 17/30\n",
            "18/18 - 0s - loss: 0.0156 - val_loss: 0.0187\n",
            "Epoch 18/30\n",
            "18/18 - 0s - loss: 0.0155 - val_loss: 0.0192\n",
            "Epoch 19/30\n",
            "18/18 - 0s - loss: 0.0153 - val_loss: 0.0195\n",
            "Epoch 20/30\n",
            "18/18 - 0s - loss: 0.0145 - val_loss: 0.0185\n",
            "Epoch 21/30\n",
            "18/18 - 0s - loss: 0.0148 - val_loss: 0.0211\n",
            "Epoch 22/30\n",
            "18/18 - 0s - loss: 0.0154 - val_loss: 0.0197\n",
            "Epoch 23/30\n",
            "18/18 - 0s - loss: 0.0157 - val_loss: 0.0193\n",
            "Epoch 24/30\n",
            "18/18 - 0s - loss: 0.0134 - val_loss: 0.0191\n",
            "Epoch 25/30\n",
            "18/18 - 0s - loss: 0.0147 - val_loss: 0.0187\n",
            "Epoch 26/30\n",
            "18/18 - 0s - loss: 0.0136 - val_loss: 0.0204\n",
            "Epoch 27/30\n",
            "18/18 - 0s - loss: 0.0135 - val_loss: 0.0206\n",
            "Epoch 28/30\n",
            "18/18 - 0s - loss: 0.0132 - val_loss: 0.0187\n",
            "Epoch 29/30\n",
            "18/18 - 0s - loss: 0.0136 - val_loss: 0.0187\n",
            "Epoch 30/30\n",
            "18/18 - 0s - loss: 0.0137 - val_loss: 0.0190\n"
          ],
          "name": "stdout"
        },
        {
          "output_type": "execute_result",
          "data": {
            "text/plain": [
              "<keras.callbacks.History at 0x7f21c2102fd0>"
            ]
          },
          "metadata": {
            "tags": []
          },
          "execution_count": 55
        }
      ]
    },
    {
      "cell_type": "code",
      "metadata": {
        "id": "BkCjhhrWFz86"
      },
      "source": [
        "pred = model.predict([x_test[:, 0], x_test[:, 1]])\n",
        "compute_accuracy(pred, y_test)"
      ],
      "execution_count": null,
      "outputs": []
    },
    {
      "cell_type": "code",
      "metadata": {
        "id": "JXobqby5Emb_"
      },
      "source": [
        "model.save(\"model\")"
      ],
      "execution_count": null,
      "outputs": []
    }
  ]
}